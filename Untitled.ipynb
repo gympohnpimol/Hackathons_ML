{
 "cells": [
  {
   "cell_type": "code",
   "execution_count": 2,
   "metadata": {},
   "outputs": [
    {
     "name": "stdout",
     "output_type": "stream",
     "text": [
      "Collecting xgboost\n",
      "  Using cached https://files.pythonhosted.org/packages/be/87/aa2f2e55ea6ea2098ae191894488430162fe04b0fa89ac06dc923228a8d8/xgboost-1.1.1-py3-none-macosx_10_13_x86_64.macosx_10_14_x86_64.macosx_10_15_x86_64.whl\n",
      "Requirement already satisfied: numpy in /Users/gympohnpimol/opt/anaconda3/lib/python3.7/site-packages (from xgboost) (1.17.2)\n",
      "Requirement already satisfied: scipy in /Users/gympohnpimol/opt/anaconda3/lib/python3.7/site-packages (from xgboost) (1.3.1)\n",
      "Installing collected packages: xgboost\n",
      "Successfully installed xgboost-1.1.1\n",
      "\u001b[33mWARNING: You are using pip version 19.3.1; however, version 20.1.1 is available.\n",
      "You should consider upgrading via the 'pip install --upgrade pip' command.\u001b[0m\n",
      "Note: you may need to restart the kernel to use updated packages.\n"
     ]
    }
   ],
   "source": [
    "pip install xgboost"
   ]
  },
  {
   "cell_type": "code",
   "execution_count": 5,
   "metadata": {},
   "outputs": [
    {
     "name": "stdout",
     "output_type": "stream",
     "text": [
      "\u001b[31mERROR: Could not find a version that satisfies the requirement libomp (from versions: none)\u001b[0m\n",
      "\u001b[31mERROR: No matching distribution found for libomp\u001b[0m\n",
      "\u001b[33mWARNING: You are using pip version 19.3.1; however, version 20.1.1 is available.\n",
      "You should consider upgrading via the 'pip install --upgrade pip' command.\u001b[0m\n",
      "Note: you may need to restart the kernel to use updated packages.\n"
     ]
    }
   ],
   "source": [
    "pip install libomp"
   ]
  },
  {
   "cell_type": "code",
   "execution_count": 6,
   "metadata": {},
   "outputs": [
    {
     "ename": "SyntaxError",
     "evalue": "invalid syntax (<ipython-input-6-6502e8fc9f2e>, line 1)",
     "output_type": "error",
     "traceback": [
      "\u001b[0;36m  File \u001b[0;32m\"<ipython-input-6-6502e8fc9f2e>\"\u001b[0;36m, line \u001b[0;32m1\u001b[0m\n\u001b[0;31m    brew install libomp\u001b[0m\n\u001b[0m               ^\u001b[0m\n\u001b[0;31mSyntaxError\u001b[0m\u001b[0;31m:\u001b[0m invalid syntax\n"
     ]
    }
   ],
   "source": [
    "brew install libomp"
   ]
  },
  {
   "cell_type": "code",
   "execution_count": 1,
   "metadata": {},
   "outputs": [
    {
     "name": "stdout",
     "output_type": "stream",
     "text": [
      "Collecting lightgbm\n",
      "  Using cached https://files.pythonhosted.org/packages/21/d1/7773d81964183f6892f71cf43b92f90d0bb8c954c05651d5071a2b480420/lightgbm-2.3.1-py2.py3-none-macosx_10_9_x86_64.macosx_10_10_x86_64.macosx_10_11_x86_64.macosx_10_12_x86_64.macosx_10_13_x86_64.macosx_10_14_x86_64.macosx_10_15_x86_64.whl\n",
      "Requirement already satisfied: numpy in /Users/gympohnpimol/opt/anaconda3/lib/python3.7/site-packages (from lightgbm) (1.17.2)\n",
      "Requirement already satisfied: scikit-learn in /Users/gympohnpimol/opt/anaconda3/lib/python3.7/site-packages (from lightgbm) (0.21.3)\n",
      "Requirement already satisfied: scipy in /Users/gympohnpimol/opt/anaconda3/lib/python3.7/site-packages (from lightgbm) (1.3.1)\n",
      "Requirement already satisfied: joblib>=0.11 in /Users/gympohnpimol/opt/anaconda3/lib/python3.7/site-packages (from scikit-learn->lightgbm) (0.13.2)\n",
      "Installing collected packages: lightgbm\n",
      "Successfully installed lightgbm-2.3.1\n",
      "\u001b[33mWARNING: You are using pip version 19.3.1; however, version 20.1.1 is available.\n",
      "You should consider upgrading via the 'pip install --upgrade pip' command.\u001b[0m\n",
      "Note: you may need to restart the kernel to use updated packages.\n"
     ]
    }
   ],
   "source": [
    "pip install lightgbm"
   ]
  },
  {
   "cell_type": "code",
   "execution_count": 2,
   "metadata": {},
   "outputs": [
    {
     "name": "stdout",
     "output_type": "stream",
     "text": [
      "Collecting pip\n",
      "  Using cached https://files.pythonhosted.org/packages/43/84/23ed6a1796480a6f1a2d38f2802901d078266bda38388954d01d3f2e821d/pip-20.1.1-py2.py3-none-any.whl\n",
      "Installing collected packages: pip\n",
      "  Found existing installation: pip 19.3.1\n",
      "    Uninstalling pip-19.3.1:\n",
      "      Successfully uninstalled pip-19.3.1\n",
      "Successfully installed pip-20.1.1\n",
      "Note: you may need to restart the kernel to use updated packages.\n"
     ]
    }
   ],
   "source": [
    "pip install --upgrade pip"
   ]
  },
  {
   "cell_type": "code",
   "execution_count": 3,
   "metadata": {},
   "outputs": [
    {
     "name": "stdout",
     "output_type": "stream",
     "text": [
      "Collecting catboost\n",
      "  Downloading catboost-0.23.2-cp37-none-macosx_10_6_intel.macosx_10_9_intel.macosx_10_9_x86_64.macosx_10_10_intel.macosx_10_10_x86_64.whl (10.9 MB)\n",
      "\u001b[K     |████████████████████████████████| 10.9 MB 6.4 MB/s eta 0:00:01     |███████████████████████████████▉| 10.9 MB 6.4 MB/s eta 0:00:01\n",
      "\u001b[?25hRequirement already satisfied: numpy>=1.16.0 in /Users/gympohnpimol/opt/anaconda3/lib/python3.7/site-packages (from catboost) (1.17.2)\n",
      "Requirement already satisfied: matplotlib in /Users/gympohnpimol/opt/anaconda3/lib/python3.7/site-packages (from catboost) (3.1.1)\n",
      "Collecting graphviz\n",
      "  Downloading graphviz-0.14-py2.py3-none-any.whl (18 kB)\n",
      "Requirement already satisfied: six in /Users/gympohnpimol/opt/anaconda3/lib/python3.7/site-packages (from catboost) (1.12.0)\n",
      "Collecting plotly\n",
      "  Downloading plotly-4.8.2-py2.py3-none-any.whl (11.5 MB)\n",
      "\u001b[K     |████████████████████████████████| 11.5 MB 8.0 MB/s eta 0:00:01\n",
      "\u001b[?25hRequirement already satisfied: pandas>=0.24.0 in /Users/gympohnpimol/opt/anaconda3/lib/python3.7/site-packages (from catboost) (0.25.1)\n",
      "Requirement already satisfied: scipy in /Users/gympohnpimol/opt/anaconda3/lib/python3.7/site-packages (from catboost) (1.3.1)\n",
      "Requirement already satisfied: cycler>=0.10 in /Users/gympohnpimol/opt/anaconda3/lib/python3.7/site-packages (from matplotlib->catboost) (0.10.0)\n",
      "Requirement already satisfied: kiwisolver>=1.0.1 in /Users/gympohnpimol/opt/anaconda3/lib/python3.7/site-packages (from matplotlib->catboost) (1.1.0)\n",
      "Requirement already satisfied: pyparsing!=2.0.4,!=2.1.2,!=2.1.6,>=2.0.1 in /Users/gympohnpimol/opt/anaconda3/lib/python3.7/site-packages (from matplotlib->catboost) (2.4.2)\n",
      "Requirement already satisfied: python-dateutil>=2.1 in /Users/gympohnpimol/opt/anaconda3/lib/python3.7/site-packages (from matplotlib->catboost) (2.8.0)\n",
      "Collecting retrying>=1.3.3\n",
      "  Downloading retrying-1.3.3.tar.gz (10 kB)\n",
      "Requirement already satisfied: pytz>=2017.2 in /Users/gympohnpimol/opt/anaconda3/lib/python3.7/site-packages (from pandas>=0.24.0->catboost) (2019.3)\n",
      "Requirement already satisfied: setuptools in /Users/gympohnpimol/opt/anaconda3/lib/python3.7/site-packages (from kiwisolver>=1.0.1->matplotlib->catboost) (41.4.0)\n",
      "Building wheels for collected packages: retrying\n",
      "  Building wheel for retrying (setup.py) ... \u001b[?25ldone\n",
      "\u001b[?25h  Created wheel for retrying: filename=retrying-1.3.3-py3-none-any.whl size=11429 sha256=ae5fe5260c465cfa95dd32f04ede08387cbdd6e4215977cd6e0ce333517a926e\n",
      "  Stored in directory: /Users/gympohnpimol/Library/Caches/pip/wheels/f9/8d/8d/f6af3f7f9eea3553bc2fe6d53e4b287dad18b06a861ac56ddf\n",
      "Successfully built retrying\n",
      "Installing collected packages: graphviz, retrying, plotly, catboost\n",
      "Successfully installed catboost-0.23.2 graphviz-0.14 plotly-4.8.2 retrying-1.3.3\n",
      "Note: you may need to restart the kernel to use updated packages.\n"
     ]
    }
   ],
   "source": [
    "pip install catboost"
   ]
  },
  {
   "cell_type": "code",
   "execution_count": 4,
   "metadata": {},
   "outputs": [
    {
     "name": "stdout",
     "output_type": "stream",
     "text": [
      "Collecting rgf-python\n",
      "  Downloading rgf_python-3.8.0-py2.py3-none-macosx_10_13_x86_64.macosx_10_14_x86_64.macosx_10_15_x86_64.whl (748 kB)\n",
      "\u001b[K     |████████████████████████████████| 748 kB 1.1 MB/s eta 0:00:01\n",
      "\u001b[?25hRequirement already satisfied: six in /Users/gympohnpimol/opt/anaconda3/lib/python3.7/site-packages (from rgf-python) (1.12.0)\n",
      "Requirement already satisfied: joblib in /Users/gympohnpimol/opt/anaconda3/lib/python3.7/site-packages (from rgf-python) (0.13.2)\n",
      "Requirement already satisfied: scikit-learn>=0.18 in /Users/gympohnpimol/opt/anaconda3/lib/python3.7/site-packages (from rgf-python) (0.21.3)\n",
      "Requirement already satisfied: numpy>=1.11.0 in /Users/gympohnpimol/opt/anaconda3/lib/python3.7/site-packages (from scikit-learn>=0.18->rgf-python) (1.17.2)\n",
      "Requirement already satisfied: scipy>=0.17.0 in /Users/gympohnpimol/opt/anaconda3/lib/python3.7/site-packages (from scikit-learn>=0.18->rgf-python) (1.3.1)\n",
      "Installing collected packages: rgf-python\n",
      "Successfully installed rgf-python-3.8.0\n",
      "Note: you may need to restart the kernel to use updated packages.\n"
     ]
    }
   ],
   "source": [
    "pip install rgf-python"
   ]
  },
  {
   "cell_type": "code",
   "execution_count": 5,
   "metadata": {},
   "outputs": [
    {
     "name": "stdout",
     "output_type": "stream",
     "text": [
      "Requirement already satisfied: Ipython in /Users/gympohnpimol/opt/anaconda3/lib/python3.7/site-packages (7.8.0)\n",
      "Requirement already satisfied: appnope; sys_platform == \"darwin\" in /Users/gympohnpimol/opt/anaconda3/lib/python3.7/site-packages (from Ipython) (0.1.0)\n",
      "Requirement already satisfied: decorator in /Users/gympohnpimol/opt/anaconda3/lib/python3.7/site-packages (from Ipython) (4.4.0)\n",
      "Requirement already satisfied: pickleshare in /Users/gympohnpimol/opt/anaconda3/lib/python3.7/site-packages (from Ipython) (0.7.5)\n",
      "Requirement already satisfied: pexpect; sys_platform != \"win32\" in /Users/gympohnpimol/opt/anaconda3/lib/python3.7/site-packages (from Ipython) (4.7.0)\n",
      "Requirement already satisfied: prompt-toolkit<2.1.0,>=2.0.0 in /Users/gympohnpimol/opt/anaconda3/lib/python3.7/site-packages (from Ipython) (2.0.10)\n",
      "Requirement already satisfied: jedi>=0.10 in /Users/gympohnpimol/opt/anaconda3/lib/python3.7/site-packages (from Ipython) (0.15.1)\n",
      "Requirement already satisfied: backcall in /Users/gympohnpimol/opt/anaconda3/lib/python3.7/site-packages (from Ipython) (0.1.0)\n",
      "Requirement already satisfied: pygments in /Users/gympohnpimol/opt/anaconda3/lib/python3.7/site-packages (from Ipython) (2.4.2)\n",
      "Requirement already satisfied: setuptools>=18.5 in /Users/gympohnpimol/opt/anaconda3/lib/python3.7/site-packages (from Ipython) (41.4.0)\n",
      "Requirement already satisfied: traitlets>=4.2 in /Users/gympohnpimol/opt/anaconda3/lib/python3.7/site-packages (from Ipython) (4.3.3)\n",
      "Requirement already satisfied: ptyprocess>=0.5 in /Users/gympohnpimol/opt/anaconda3/lib/python3.7/site-packages (from pexpect; sys_platform != \"win32\"->Ipython) (0.6.0)\n",
      "Requirement already satisfied: wcwidth in /Users/gympohnpimol/opt/anaconda3/lib/python3.7/site-packages (from prompt-toolkit<2.1.0,>=2.0.0->Ipython) (0.1.7)\n",
      "Requirement already satisfied: six>=1.9.0 in /Users/gympohnpimol/opt/anaconda3/lib/python3.7/site-packages (from prompt-toolkit<2.1.0,>=2.0.0->Ipython) (1.12.0)\n",
      "Requirement already satisfied: parso>=0.5.0 in /Users/gympohnpimol/opt/anaconda3/lib/python3.7/site-packages (from jedi>=0.10->Ipython) (0.5.1)\n",
      "Requirement already satisfied: ipython-genutils in /Users/gympohnpimol/opt/anaconda3/lib/python3.7/site-packages (from traitlets>=4.2->Ipython) (0.2.0)\n",
      "Note: you may need to restart the kernel to use updated packages.\n"
     ]
    }
   ],
   "source": [
    "pip install Ipython"
   ]
  },
  {
   "cell_type": "code",
   "execution_count": null,
   "metadata": {},
   "outputs": [],
   "source": []
  }
 ],
 "metadata": {
  "kernelspec": {
   "display_name": "Python 3",
   "language": "python",
   "name": "python3"
  },
  "language_info": {
   "codemirror_mode": {
    "name": "ipython",
    "version": 3
   },
   "file_extension": ".py",
   "mimetype": "text/x-python",
   "name": "python",
   "nbconvert_exporter": "python",
   "pygments_lexer": "ipython3",
   "version": "3.7.4"
  }
 },
 "nbformat": 4,
 "nbformat_minor": 2
}
